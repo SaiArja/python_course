{
 "cells": [
  {
   "cell_type": "code",
   "execution_count": 2,
   "metadata": {
    "id": "1YVTYu-CuCOO"
   },
   "outputs": [
    {
     "name": "stdout",
     "output_type": "stream",
     "text": [
      "5\n"
     ]
    }
   ],
   "source": [
    "# Define a function calls addNumber(x, y) that takes in two number and returns the sum of the two numbers.\n",
    "def addNumber(x, y):\n",
    "    add = x+y\n",
    "    return add\n",
    "print(addNumber(2,3))"
   ]
  },
  {
   "cell_type": "code",
   "execution_count": 4,
   "metadata": {
    "id": "1-gIq-Rju2i2"
   },
   "outputs": [
    {
     "name": "stdout",
     "output_type": "stream",
     "text": [
      "3\n"
     ]
    }
   ],
   "source": [
    "# Define a function calls subtractNumber(x, y) that takes in two numbers and returns the difference of the two numbers.\n",
    "def subtractNumber(x, y):\n",
    "    sub = x-y\n",
    "    return sub\n",
    "print(subtractNumber(5, 2))"
   ]
  },
  {
   "cell_type": "code",
   "execution_count": 1,
   "metadata": {
    "id": "kiAE0iLbviG9"
   },
   "outputs": [
    {
     "name": "stdout",
     "output_type": "stream",
     "text": [
      "10\n"
     ]
    }
   ],
   "source": [
    "# Write a function getBiggerNumber(x, y) that takes in two numbers as arguments and returns the bigger number.\n",
    "def getBiggerNumber(x, y):\n",
    "    return max(x,y)\n",
    "print(getBiggerNumber(5,10))"
   ]
  },
  {
   "cell_type": "code",
   "execution_count": 17,
   "metadata": {
    "id": "10B5oVcZh16d"
   },
   "outputs": [
    {
     "name": "stdout",
     "output_type": "stream",
     "text": [
      "28.274333882308138\n"
     ]
    }
   ],
   "source": [
    "# Python provides many built-in modules with many useful functions. \n",
    "# One such module is the math module. The math module provides many useful functions such as sqrt(x), pow(x, y), ceil(x), floor(x) etc. \n",
    "# You will need to do a \"import math\" before you are allowed to use the functions within the math module.\n",
    "import math as m\n",
    "\n",
    "# Calculate the square root of 16 and stores it in the variable a\n",
    "# num = int(input('enter a number -'))\n",
    "# a = m.sqrt(a)\n",
    "# print(a)\n",
    "\n",
    "# Calculate 3 to the power of 5 and stores it in the variable b\n",
    "# b = 3**5\n",
    "# print(b)\n",
    "# Calculate area of circle with radius = 3.0 by making use of the math.pi constant and store it in the variable c\n",
    "r = 3.0\n",
    "area = m.pi*r*r\n",
    "print(area)"
   ]
  },
  {
   "cell_type": "code",
   "execution_count": 22,
   "metadata": {
    "id": "Yado0B99h2E_"
   },
   "outputs": [
    {
     "name": "stdout",
     "output_type": "stream",
     "text": [
      "32.0\n",
      "82.4\n"
     ]
    }
   ],
   "source": [
    "# Write a function to convert temperature from Celsius to Fahrenheit scale.\n",
    "# oC to oF Conversion: Multipy by 9, then divide by 5, then add 32.\n",
    "\n",
    "# Note: Return a string of 2 decimal places.\n",
    "# In - Cel2Fah(28.0)\n",
    "# Out - '82.40'\n",
    "# In - Cel2Fah(0.00)\n",
    "# Out - '32.00'\n",
    "\n",
    "def Cel2Fah(c):\n",
    "    f = (c * 9/5) + 32\n",
    "    return f\n",
    "print(Cel2Fah(0))\n",
    "print(Cel2Fah(28.0))"
   ]
  },
  {
   "cell_type": "code",
   "execution_count": 25,
   "metadata": {
    "id": "n7lsFol9h2ID"
   },
   "outputs": [
    {
     "name": "stdout",
     "output_type": "stream",
     "text": [
      "21.79930795847751\n",
      "27.5\n"
     ]
    }
   ],
   "source": [
    "# Write a function to compute the BMI of a person.\n",
    "#     BMI = weight(kg)  /  ( height(m)*height(m) )\n",
    "\n",
    "# Note: Return a string of 1 decimal place.\n",
    "# In - BMI(63, 1.7)\n",
    "# Out - '21.8'\n",
    "# In - BMI(110, 2)\n",
    "# Out - '27.5'\n",
    "def BMI(w, m):\n",
    "    bmi = w/(m**2)\n",
    "    return bmi\n",
    "print(BMI(63, 1.7))\n",
    "print(BMI(110, 2))"
   ]
  },
  {
   "cell_type": "code",
   "execution_count": 33,
   "metadata": {
    "id": "f2tV1AU8h2LN"
   },
   "outputs": [
    {
     "name": "stdout",
     "output_type": "stream",
     "text": [
      "51\n",
      "100\n",
      "525\n"
     ]
    }
   ],
   "source": [
    "# Write a function percent(value, total) that takes in two numbers as arguments, and returns the percentage value as an integer.\n",
    "# In - percent(46, 90)\n",
    "# Out - 51\n",
    "# In - percent(51, 51)\n",
    "# Out - 100\n",
    "# In - percent(63, 12)\n",
    "# Out - 525\n",
    "def percent(value, total):\n",
    "    a = (value/total)*100\n",
    "    print(int(a))\n",
    "percent(46, 90)\n",
    "percent(51, 51)\n",
    "percent(63, 12)"
   ]
  },
  {
   "cell_type": "code",
   "execution_count": 38,
   "metadata": {
    "id": "QyoWR3dQh2OZ"
   },
   "outputs": [
    {
     "name": "stdout",
     "output_type": "stream",
     "text": [
      "5\n",
      "13\n"
     ]
    }
   ],
   "source": [
    "# Write a function to compute the hypotenuse given sides a and b of the triangle.\n",
    "# Hint: You can use math.sqrt(x) to compute the square root of x.\n",
    "# In - hypotenuse(3, 4)\n",
    "# Out - 5\n",
    "# In - hypotenuse(5, 12)\n",
    "# Out - 13\n",
    "import math as m\n",
    "def hypotenuse(a, b):\n",
    "    c = m.sqrt((a*a)+(b*b))\n",
    "    return int(c)\n",
    "print(hypotenuse(3, 4))\n",
    "print(hypotenuse(5, 12))"
   ]
  },
  {
   "cell_type": "code",
   "execution_count": 47,
   "metadata": {
    "id": "XthPUigkh2Ro"
   },
   "outputs": [
    {
     "name": "stdout",
     "output_type": "stream",
     "text": [
      "480\n"
     ]
    }
   ],
   "source": [
    "# Write a function getSumOfLastDigits() that takes in a list of positive numbers and returns the sum of all the last digits in the list.\n",
    "# getSumOfLastDigits([2, 3, 4])\n",
    "# 9\n",
    "# getSumOfLastDigits([1, 23, 456])\n",
    "# 10\n",
    "\n",
    "def getSumOfLastDigits(lst):\n",
    "    summ = 0\n",
    "    for i in range(len(lst)):\n",
    "        summ +=lst[i]\n",
    "    return summ\n",
    "print(getSumOfLastDigits([1, 23, 456]))"
   ]
  },
  {
   "cell_type": "code",
   "execution_count": 54,
   "metadata": {
    "id": "T-uIqm9Mh2Un"
   },
   "outputs": [
    {
     "name": "stdout",
     "output_type": "stream",
     "text": [
      "My name is Lim. Iam 20 Years old\n",
      "My name is Ahmad. Iam secret Years old\n"
     ]
    }
   ],
   "source": [
    "# Write a function that uses a default value.\n",
    "# In - introduce('Lim', 20)\n",
    "# Out - 'My name is Lim. I am 20 years old.'\n",
    "# In - introduce('Ahmad')\n",
    "# Out - 'My name is Ahmad. My age is secret.'\n",
    "def introduce(name , age = 'secret'):\n",
    "    return (f'My name is {name}. Iam {age} Years old')\n",
    "print(introduce('Lim', 20))\n",
    "print(introduce('Ahmad'))"
   ]
  },
  {
   "cell_type": "code",
   "execution_count": 59,
   "metadata": {
    "id": "h0pXo5vH6wA-"
   },
   "outputs": [
    {
     "name": "stdout",
     "output_type": "stream",
     "text": [
      "False\n",
      "True\n",
      "True\n"
     ]
    }
   ],
   "source": [
    "# Write a function isEquilateral(x, y, z) that accepts the 3 sides of a triangle as arguments. \n",
    "# The program should return True if it is an equilateral triangle.\n",
    "\n",
    "# In - isEquilateral(2, 4, 3)\n",
    "# False - False\n",
    "# In - isEquilateral(3, 3, 3)\n",
    "# Out - True\n",
    "# In - isEquilateral(-3, -3, -3)\n",
    "# Out - False\n",
    "\n",
    "def isEquilateral(x, y, z):\n",
    "    if x == y == z:\n",
    "        return True\n",
    "    else:\n",
    "        return False\n",
    "print(isEquilateral(2, 4, 3))\n",
    "print(isEquilateral(3, 3, 3))\n",
    "print(isEquilateral(-3, -3, -3))"
   ]
  },
  {
   "cell_type": "code",
   "execution_count": 67,
   "metadata": {
    "id": "3NvcKCkn6wFy"
   },
   "outputs": [
    {
     "name": "stdout",
     "output_type": "stream",
     "text": [
      "The discriminant is -8\n",
      "The discriminant is 1\n",
      "The discriminant is 0\n"
     ]
    }
   ],
   "source": [
    "# For a quadratic equation in the form of ax2+bx+c, the discriminant, D is b2-4ac. Write a function to compute the discriminant, D.\n",
    "# In - quadratic(1, 2, 3)\n",
    "# Out - 'The discriminant is -8.'\n",
    "# In - quadratic(1, 3, 2)\n",
    "# Out - 'The discriminant is 1.'\n",
    "# In - quadratic(1, 4, 4)\n",
    "# Out - 'The discriminant is 0.'\n",
    "def quadratic(a, b, c):\n",
    "    d = ((b*b)-4*a*c)\n",
    "    return (f'The discriminant is {d}')\n",
    "print(quadratic(1, 2, 3))\n",
    "print(quadratic(1, 3, 2))\n",
    "print(quadratic(1, 4, 4))"
   ]
  },
  {
   "cell_type": "code",
   "execution_count": 84,
   "metadata": {
    "colab": {
     "base_uri": "https://localhost:8080/",
     "height": 34
    },
    "id": "ihmuttBS6wJQ",
    "outputId": "0ef031e9-dec6-4ffe-b1ea-38d836dbcdcf"
   },
   "outputs": [
    {
     "name": "stdout",
     "output_type": "stream",
     "text": [
      "5\n",
      "0\n",
      "10\n"
     ]
    }
   ],
   "source": [
    "# Define a function calls addFirstAndLast(x) that takes in a list of numbers and returns the sum of the first and last numbers.\n",
    "# In - addFirstAndLast([])\n",
    "# Out - 0\n",
    "# In - addFirstAndLast([2, 7, 3])\n",
    "# Out - 5\n",
    "# In - addFirstAndLast([10])\n",
    "# Out - 10\n",
    "\n",
    "def addFirstAndLast(lst):\n",
    "    if len(lst)>1:\n",
    "        return (lst[0]+lst[-1])\n",
    "    elif len(lst)==0:\n",
    "        return 0\n",
    "    else:\n",
    "        return lst[0]\n",
    "print(addFirstAndLast([2,7,3]))\n",
    "print(addFirstAndLast([]))\n",
    "print(addFirstAndLast([10]))"
   ]
  },
  {
   "cell_type": "code",
   "execution_count": 3,
   "metadata": {
    "colab": {
     "base_uri": "https://localhost:8080/",
     "height": 34
    },
    "id": "lEt9HNPI6wM0",
    "outputId": "b07e15c3-a864-454c-aef5-1f1f0e07b39a"
   },
   "outputs": [
    {
     "data": {
      "text/plain": [
       "True"
      ]
     },
     "execution_count": 3,
     "metadata": {},
     "output_type": "execute_result"
    }
   ],
   "source": [
    "# Complete the 'lambda' expression so that it returns True if the argument is an even number, and False otherwise.\n",
    "\n",
    "(lambda num : num%2 ==0 )(6)"
   ]
  },
  {
   "cell_type": "code",
   "execution_count": null,
   "metadata": {
    "colab": {
     "base_uri": "https://localhost:8080/",
     "height": 35
    },
    "id": "JYWSZXPg6wQN",
    "outputId": "7b71e08d-573f-4d03-d5e3-e220df4c3b90"
   },
   "outputs": [
    {
     "data": {
      "application/vnd.google.colaboratory.intrinsic+json": {
       "type": "string"
      },
      "text/plain": [
       "\"'A function that computes and returns the final score.\""
      ]
     },
     "execution_count": 3,
     "metadata": {
      "tags": []
     },
     "output_type": "execute_result"
    }
   ],
   "source": [
    "\n",
    "# Get the documentation of below function\n",
    "\n",
    "def getScore():\n",
    "  ''''A function that computes and returns the final score.'''\n",
    "  pass\n"
   ]
  },
  {
   "cell_type": "code",
   "execution_count": 92,
   "metadata": {
    "colab": {
     "base_uri": "https://localhost:8080/",
     "height": 34
    },
    "id": "zmi81hi76wTK",
    "outputId": "232b4456-63ad-4582-d2cd-d888952dc957"
   },
   "outputs": [
    {
     "name": "stdout",
     "output_type": "stream",
     "text": [
      "100\n"
     ]
    }
   ],
   "source": [
    "# In Python, it is possible to pass a function as a argument to another function. \n",
    "# Write a function useFunction(func, num) that takes in a function and a number as arguments. \n",
    "# The useFunction should produce the output shown in the examples given below.\n",
    "\n",
    "def addOne(x):\n",
    "    return x + 1\n",
    "def useFunction(addOne, a):\n",
    "    b = addOne(a)\n",
    "    return b*b\n",
    "\n",
    "print(useFunction(addOne, 9))"
   ]
  },
  {
   "cell_type": "code",
   "execution_count": 94,
   "metadata": {
    "id": "JJm1zFMX6wWK"
   },
   "outputs": [
    {
     "data": {
      "text/plain": [
       "4"
      ]
     },
     "execution_count": 94,
     "metadata": {},
     "output_type": "execute_result"
    }
   ],
   "source": [
    "# Write a function find_max that accepts three numbers as arguments and returns the largest number among three. \n",
    "# Write another function main, in main() function accept three numbers from user and call find_max.\n",
    "\n",
    "def find_max(a,b,c):\n",
    "    d = max(a,b,c)\n",
    "    return d\n",
    "def main():\n",
    "    e = find_max(2,3,4)\n",
    "    return e\n",
    "main()"
   ]
  },
  {
   "cell_type": "code",
   "execution_count": 102,
   "metadata": {
    "colab": {
     "base_uri": "https://localhost:8080/",
     "height": 34
    },
    "id": "PBvBwg0O6waD",
    "outputId": "57768b69-c749-4d88-be06-7a9d41a98de2"
   },
   "outputs": [
    {
     "name": "stdout",
     "output_type": "stream",
     "text": [
      "enter a string -aeiou\n",
      "5\n"
     ]
    }
   ],
   "source": [
    "# Write a function, is_vowel that returns the value true if a given character is a vowel, \n",
    "# and otherwise returns false. \n",
    "# Write another function main, in main() function accept a string from user and count number \n",
    "# of vowels in that string.\n",
    "\n",
    "def is_vowel(s):\n",
    "    if s in ['a', 'e', 'i', 'o', 'u']:\n",
    "        return True\n",
    "    else:\n",
    "        return False\n",
    "def main():\n",
    "    count = 0\n",
    "    st = input('enter a string -')\n",
    "    for i in range(len(st)):\n",
    "        if is_vowel(st[i])==True:\n",
    "            count +=1\n",
    "    print(count)\n",
    "main()"
   ]
  },
  {
   "cell_type": "code",
   "execution_count": 129,
   "metadata": {},
   "outputs": [
    {
     "name": "stdout",
     "output_type": "stream",
     "text": [
      "2\n",
      "3\n",
      "5\n",
      "7\n",
      "11\n",
      "13\n",
      "17\n",
      "19\n",
      "23\n",
      "29\n",
      "31\n",
      "37\n",
      "41\n",
      "43\n",
      "47\n",
      "53\n",
      "59\n",
      "61\n",
      "67\n",
      "71\n",
      "73\n",
      "79\n",
      "83\n",
      "89\n",
      "97\n",
      "101\n",
      "103\n",
      "107\n",
      "109\n",
      "113\n",
      "127\n",
      "131\n",
      "137\n",
      "139\n",
      "149\n",
      "151\n",
      "157\n",
      "163\n",
      "167\n",
      "173\n",
      "179\n",
      "181\n",
      "191\n",
      "193\n",
      "197\n",
      "199\n",
      "211\n",
      "223\n",
      "227\n",
      "229\n",
      "233\n",
      "239\n",
      "241\n",
      "251\n",
      "257\n",
      "263\n",
      "269\n",
      "271\n",
      "277\n",
      "281\n",
      "283\n",
      "293\n",
      "307\n",
      "311\n",
      "313\n",
      "317\n",
      "331\n",
      "337\n",
      "347\n",
      "349\n",
      "353\n",
      "359\n",
      "367\n",
      "373\n",
      "379\n",
      "383\n",
      "389\n",
      "397\n",
      "401\n",
      "409\n",
      "419\n",
      "421\n",
      "431\n",
      "433\n",
      "439\n",
      "443\n",
      "449\n",
      "457\n",
      "461\n",
      "463\n",
      "467\n",
      "479\n",
      "487\n",
      "491\n",
      "499\n",
      "None\n"
     ]
    }
   ],
   "source": [
    "# Write a function named is_prime, which takes an integer as an argument and returns true \n",
    "# if the argument is a prime number, or false otherwise. \n",
    "# Also, write the main function that displays prime numbers between 1 to 500.\n",
    "\n",
    "def is_prime(num):\n",
    "    if num > 1:\n",
    "        for i in range(2,num):\n",
    "            if (num % i) == 0:\n",
    "                return False\n",
    "        else:\n",
    "            return True\n",
    "def main():\n",
    "    for i in range(500):\n",
    "        if is_prime(i) == True:\n",
    "            print(i)\n",
    "print(main())"
   ]
  },
  {
   "cell_type": "code",
   "execution_count": 131,
   "metadata": {},
   "outputs": [
    {
     "name": "stdout",
     "output_type": "stream",
     "text": [
      "36\n"
     ]
    }
   ],
   "source": [
    "# Write a function in python to find the sum of the cube of elements in a list. \n",
    "# The list is received as an argument to the function, in turn, the function must return the sum. \n",
    "# Write the main function which invokes the above function.\n",
    "def cube_ele(lst):\n",
    "    su = 0\n",
    "    lst1 = 0\n",
    "    for i in lst:\n",
    "        su = (i*i*i)\n",
    "        lst1 = lst1+su\n",
    "    return lst1\n",
    "print(cube_ele([1,2,3]))"
   ]
  },
  {
   "cell_type": "code",
   "execution_count": 134,
   "metadata": {},
   "outputs": [
    {
     "name": "stdout",
     "output_type": "stream",
     "text": [
      "600\n"
     ]
    }
   ],
   "source": [
    "# Write the definition of a function zero_ending(scores) to add all those values in the list of scores, \n",
    "# which are ending with zero and display the sum.\n",
    "# For example: If the scores contain [200, 456, 300, 100, 234, 678] The sum should be displayed as 600\n",
    "def zero_ending(scores):\n",
    "    summ = 0\n",
    "    for i in scores:\n",
    "        if i%10 ==0:\n",
    "            summ = i+summ\n",
    "    return summ\n",
    "print(zero_ending([200, 456, 300, 100, 234, 678]))"
   ]
  },
  {
   "cell_type": "code",
   "execution_count": 155,
   "metadata": {},
   "outputs": [
    {
     "name": "stdout",
     "output_type": "stream",
     "text": [
      "\n",
      "LONDON\n",
      "NEW YORK\n"
     ]
    }
   ],
   "source": [
    "# Write a definition of a method count_now(places) to find and display those place names, \n",
    "# in which there are more than 5 characters.\n",
    "\n",
    "# For example :\n",
    "# If the list places contains\n",
    "# [\"DELHI\",\"LONDON\",\"PARIS\",\"NEW YORK\",\"DUBAI\"]\n",
    "# The following should get displayed :\n",
    "# LONDON\n",
    "# NEW YORK\n",
    "\n",
    "def count_now(places):\n",
    "    lst = ''\n",
    "    for i in range(len(places)):\n",
    "        if len(places[i])>5:\n",
    "            lst = lst +'\\n'+ places[i]\n",
    "        else:\n",
    "            continue\n",
    "    return lst\n",
    "print(count_now([\"DELHI\",\"LONDON\",\"PARIS\",\"NEW YORK\",\"DUBAI\"]))"
   ]
  },
  {
   "cell_type": "code",
   "execution_count": 14,
   "metadata": {},
   "outputs": [
    {
     "name": "stdout",
     "output_type": "stream",
     "text": [
      "414141\n",
      "Drone#\n",
      "Giriaj#\n",
      "131313\n",
      "zara#\n",
      "\n"
     ]
    }
   ],
   "source": [
    "# Write a method in python to display the elements of list thrice if it is a number and display \n",
    "# the element terminated with ‘#’ if it is not a number.\n",
    "\n",
    "# For example, if the content of list is as follows :\n",
    "# ThisList=[‘41’,‘DROND’,‘GIRIRAJ’, ‘13’,‘ZARA’]\n",
    "# The output should be\n",
    "# 414141\n",
    "# DROND#\n",
    "# GIRIRAJ#\n",
    "# 131313\n",
    "# ZARA#\n",
    "import os\n",
    "def write_lst(lst):\n",
    "    s = ''\n",
    "    for i in lst:\n",
    "        if i.isnumeric():\n",
    "            s = s+(i+i+i)+os.linesep\n",
    "        elif i.isalpha():\n",
    "            s = s+i+'#'+os.linesep\n",
    "    return s\n",
    "ThisList=[ '41', 'Drone', 'Giriaj', '13', 'zara']\n",
    "print(write_lst(ThisList))"
   ]
  },
  {
   "cell_type": "code",
   "execution_count": 20,
   "metadata": {},
   "outputs": [
    {
     "name": "stdout",
     "output_type": "stream",
     "text": [
      "Element is present at index 4\n"
     ]
    }
   ],
   "source": [
    "# For a given list of values in descending order, write a method in python to search \n",
    "# for a value with the help of Binary Search method. \n",
    "# The method should return position of the value and should return -1 if the value not present in the list.\n",
    "def binarySearch(arr, l, r, x):\n",
    "    while l <= r:\n",
    "        mid = l + (r - l) // 2;\n",
    "        if arr[mid] == x:\n",
    "            return mid\n",
    "        elif arr[mid] < x:\n",
    "            l = mid + 1\n",
    "        else:\n",
    "            r = mid - 1\n",
    "    return -1\n",
    "\n",
    "arr = [ 2, 3, 4, 10, 40 ]\n",
    "x = 40\n",
    "result = binarySearch(arr, 0, len(arr)-1, x)\n",
    " \n",
    "if result != -1:\n",
    "    print (f\"Element is present at index {result}\")\n",
    "else:\n",
    "    print (\"Element is not present in array\")"
   ]
  },
  {
   "cell_type": "code",
   "execution_count": null,
   "metadata": {},
   "outputs": [],
   "source": []
  },
  {
   "cell_type": "code",
   "execution_count": 49,
   "metadata": {},
   "outputs": [
    {
     "name": "stdout",
     "output_type": "stream",
     "text": [
      "[40, 50, 60, 10, 20, 30]\n",
      "[50, 60, 70, 40, 10, 20, 30]\n"
     ]
    }
   ],
   "source": [
    "# Write a function half_and_half that takes in a list and change the list \n",
    "# such that the elements of the second half are now in the first half.\n",
    "\n",
    "# For example, if the size of list is even and content of list is as follows :\n",
    "# my_liist = [10,20,30,40,50,60]\n",
    "# The output should be\n",
    "# [40,50,60,10,20,30]\n",
    "# if the size of list is odd and content of list is as follows :\n",
    "# my_liist = [10,20,30,40,50,60,70]\n",
    "# The output should be\n",
    "# [50,60,70,40,10,20,30]\n",
    "\n",
    "def half_and_half(lst):\n",
    "    lst_sub1=[]\n",
    "    lst_sub2=[]\n",
    "    lst3 = []\n",
    "    if len(lst)%2==0:\n",
    "        lst_sub1= lst[0:len(lst)//2:1]\n",
    "        lst_sub2= lst[(len(lst)//2)::1]\n",
    "        lst_sub2.extend(lst_sub1)\n",
    "        return lst_sub2\n",
    "    else:\n",
    "        a=[]\n",
    "        a = lst[(len(lst)-1)//2:((len(lst)-1)//2)+1:1]\n",
    "        lst_sub1= lst[0:len(lst)//2:1]\n",
    "        lst_sub2= lst[(len(lst)//2)+1::1]\n",
    "        lst_sub2.extend(a)\n",
    "        lst_sub2.extend(lst_sub1)\n",
    "        return lst_sub2\n",
    "my_list1 = [10,20,30,40,50,60]\n",
    "my_list2 = [10,20,30,40,50,60,70]\n",
    "print(half_and_half(my_list1))\n",
    "print(half_and_half(my_list2))"
   ]
  },
  {
   "cell_type": "code",
   "execution_count": 9,
   "metadata": {
    "ExecuteTime": {
     "end_time": "2021-05-29T10:39:43.694779Z",
     "start_time": "2021-05-29T10:39:43.691446Z"
    }
   },
   "outputs": [
    {
     "name": "stdout",
     "output_type": "stream",
     "text": [
      "{'Jhon': 'name', 1500: 'salary'}\n"
     ]
    }
   ],
   "source": [
    "# Write a function that accepts a dictionary as an argument. If the dictionary contains replicate values, \n",
    "# return an empty dictionary, otherwise, return a new dictionary whose values are now the keys and whose \n",
    "# keys are the values.\n",
    "\n",
    "def function_di1(di):\n",
    "    if len(di) == len(set(di.values())):\n",
    "        val = list(di.values())\n",
    "        ke = list(di.keys())\n",
    "        d2 = dict(zip(val, ke))\n",
    "        return d2\n",
    "    else:\n",
    "        return 'dict has Duplicate values'\n",
    "emp_info = {'name': 'Jhon', 'salary': 1500}\n",
    "print(function_di1(emp_info))"
   ]
  },
  {
   "cell_type": "code",
   "execution_count": null,
   "metadata": {},
   "outputs": [],
   "source": []
  },
  {
   "cell_type": "code",
   "execution_count": null,
   "metadata": {},
   "outputs": [],
   "source": []
  },
  {
   "cell_type": "code",
   "execution_count": null,
   "metadata": {},
   "outputs": [],
   "source": []
  },
  {
   "cell_type": "code",
   "execution_count": null,
   "metadata": {},
   "outputs": [],
   "source": []
  }
 ],
 "metadata": {
  "colab": {
   "name": "Function_Assignment.ipynb",
   "provenance": []
  },
  "kernelspec": {
   "display_name": "Python 3",
   "language": "python",
   "name": "python3"
  },
  "language_info": {
   "codemirror_mode": {
    "name": "ipython",
    "version": 3
   },
   "file_extension": ".py",
   "mimetype": "text/x-python",
   "name": "python",
   "nbconvert_exporter": "python",
   "pygments_lexer": "ipython3",
   "version": "3.8.5"
  }
 },
 "nbformat": 4,
 "nbformat_minor": 1
}
