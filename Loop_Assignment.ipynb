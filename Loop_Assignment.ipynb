{
 "cells": [
  {
   "cell_type": "code",
   "execution_count": 4,
   "metadata": {},
   "outputs": [
    {
     "name": "stdout",
     "output_type": "stream",
     "text": [
      "enter a number5\n",
      "five\n"
     ]
    }
   ],
   "source": [
    "a = int(input('enter a number'))\n",
    "if a ==1:\n",
    "    print('one')\n",
    "elif a == 2:\n",
    "    print('two')\n",
    "elif a == 3:\n",
    "    print('three')\n",
    "elif a == 4:\n",
    "    print('four')\n",
    "elif a == 5:\n",
    "    print('five')\n",
    "elif a == 6:\n",
    "    print('six')\n",
    "elif a == 7:\n",
    "    print('seven')\n",
    "elif a == 8:\n",
    "    print('eight')\n",
    "elif a == 9:\n",
    "    print('nine')\n",
    "elif a == 0:\n",
    "    print('zero')\n",
    "else:\n",
    "    print('number is out of range')\n",
    "     "
   ]
  },
  {
   "cell_type": "code",
   "execution_count": 18,
   "metadata": {},
   "outputs": [
    {
     "name": "stdout",
     "output_type": "stream",
     "text": [
      "enter first number2\n",
      "enter second number3\n",
      "Please select any one operation from below:-\n",
      "                * To add enter  1\n",
      "                * to subtract enter  2\n",
      "                * To multiply enter 3\n",
      "                * To divide enter  4\n",
      "                * To divide and find quotient enter 5\n",
      "                * To divide and find remainder enter 6\n",
      "                * To divide and find num1 to the power of num2 enter 7\n",
      "                * To Come out of the program enter 8\n",
      "8\n",
      "you came out of the program\n"
     ]
    }
   ],
   "source": [
    "a = int(input('enter first number'))\n",
    "b = int(input('enter second number'))\n",
    "while True:\n",
    "    c = int(input('''Please select any one operation from below:-\n",
    "                * To add enter  1\n",
    "                * to subtract enter  2\n",
    "                * To multiply enter 3\n",
    "                * To divide enter  4\n",
    "                * To divide and find quotient enter 5\n",
    "                * To divide and find remainder enter 6\n",
    "                * To divide and find num1 to the power of num2 enter 7\n",
    "                * To Come out of the program enter 8\\n'''))\n",
    "    if c == 1:\n",
    "        print(f'addition of {a},{b} is', a+b )\n",
    "    elif c == 2:\n",
    "        print(f'subtraction of {a},{b} is ',a-b )\n",
    "    elif c == 3:\n",
    "        print(f'multiplication of {a},{b} is ',a*b )\n",
    "    elif c == 4:\n",
    "        print(f'division of {a},{b} is ',a/b )\n",
    "    elif c == 5:\n",
    "        print(f'quatotient of {a},{b} is ',a//b )\n",
    "    elif c == 6:\n",
    "        print(f'remender of {a},{b} is ',a%b )\n",
    "    elif c == 7:\n",
    "        print(f'{a} to the power of {b} is ',a**b )\n",
    "    elif c == 8:\n",
    "        print('you came out of the program')\n",
    "        break"
   ]
  },
  {
   "cell_type": "code",
   "execution_count": 30,
   "metadata": {},
   "outputs": [
    {
     "name": "stdout",
     "output_type": "stream",
     "text": [
      "enter a year1971\n",
      "1971 is not a leap year\n"
     ]
    }
   ],
   "source": [
    "year = int(input('enter a year'))\n",
    "if (year % 4) == 0:\n",
    "    if (year % 100) == 0:\n",
    "        if (year % 400) == 0:\n",
    "            print(f\"{year} is a leap year\")\n",
    "        else:\n",
    "            print(f\"{year} is not a leap year\")\n",
    "    else:\n",
    "        print(f\"{year} is a leap year\")\n",
    "else:\n",
    "    print(f\"{year} is not a leap year\")"
   ]
  },
  {
   "cell_type": "code",
   "execution_count": null,
   "metadata": {},
   "outputs": [],
   "source": []
  },
  {
   "cell_type": "code",
   "execution_count": 31,
   "metadata": {},
   "outputs": [
    {
     "name": "stdout",
     "output_type": "stream",
     "text": [
      "enter a number3\n",
      "odd\n"
     ]
    }
   ],
   "source": [
    "a = int(input('enter a number'))\n",
    "if a %2==0:\n",
    "    print('even')\n",
    "else:\n",
    "    print('odd')"
   ]
  },
  {
   "cell_type": "code",
   "execution_count": 37,
   "metadata": {},
   "outputs": [
    {
     "name": "stdout",
     "output_type": "stream",
     "text": [
      "enter first number3\n",
      "enter second number3\n",
      "3 is equal to 3 \n"
     ]
    }
   ],
   "source": [
    "a = int(input('enter first number'))\n",
    "b = int(input('enter second number'))\n",
    "if a>b:\n",
    "    print('{0} is greater then {1} '.format(a,b))\n",
    "elif a<b:\n",
    "    print('{0} is less then {1} '.format(a,b))\n",
    "elif a==b:\n",
    "    print('{0} is equal to {1} '.format(a,b))\n"
   ]
  },
  {
   "cell_type": "markdown",
   "metadata": {},
   "source": [
    "# Loops"
   ]
  },
  {
   "cell_type": "code",
   "execution_count": 3,
   "metadata": {},
   "outputs": [
    {
     "name": "stdout",
     "output_type": "stream",
     "text": [
      "55\n"
     ]
    }
   ],
   "source": [
    "in_str = 'Write a Python program to find the length of the my_str'\n",
    "count = 0\n",
    "for i in in_str:\n",
    "    count+=1\n",
    "print(count)"
   ]
  },
  {
   "cell_type": "code",
   "execution_count": 16,
   "metadata": {},
   "outputs": [
    {
     "name": "stdout",
     "output_type": "stream",
     "text": [
      "9\n"
     ]
    }
   ],
   "source": [
    "in_str ='peter piper picked a peck of pickled peppers.'\n",
    "count1 = 0\n",
    "count2 = 0\n",
    "for i in in_str:\n",
    "    count1+=1\n",
    "for i in range(count1):\n",
    "    if in_str[i] == 'p':\n",
    "        count2 +=1\n",
    "print(count2)"
   ]
  },
  {
   "cell_type": "code",
   "execution_count": 19,
   "metadata": {},
   "outputs": [
    {
     "name": "stdout",
     "output_type": "stream",
     "text": [
      "0\n",
      "6\n",
      "8\n",
      "12\n",
      "21\n",
      "29\n",
      "37\n",
      "39\n",
      "40\n"
     ]
    }
   ],
   "source": [
    "in_str ='peter piper picked a peck of pickled peppers.'\n",
    "count1 = 0\n",
    "count2 = 0\n",
    "for i in in_str:\n",
    "    count1+=1\n",
    "for i in range(count1):\n",
    "    if in_str[i] == 'p':\n",
    "        print(i)"
   ]
  },
  {
   "cell_type": "code",
   "execution_count": 25,
   "metadata": {},
   "outputs": [
    {
     "name": "stdout",
     "output_type": "stream",
     "text": [
      "['peter', 'piper', 'picked', 'a', 'peck', 'of', 'pickled', 'peppers.']\n"
     ]
    }
   ],
   "source": [
    "in_str ='peter piper picked a peck of pickled peppers.'\n",
    "lst = []\n",
    "nul = ''\n",
    "for i in in_str:\n",
    "    if i == ' ':\n",
    "        lst.append(nul)\n",
    "        nul = ''\n",
    "    else:\n",
    "        nul += i\n",
    "if nul:\n",
    "    lst.append(nul)\n",
    "\n",
    "print(lst)"
   ]
  },
  {
   "cell_type": "code",
   "execution_count": 33,
   "metadata": {},
   "outputs": [
    {
     "data": {
      "text/plain": [
       "'peppers. pickled of peck a picked piper peter'"
      ]
     },
     "execution_count": 33,
     "metadata": {},
     "output_type": "execute_result"
    }
   ],
   "source": [
    "in_str ='peter piper picked a peck of pickled peppers.'\n",
    "lst = []\n",
    "nul = ''\n",
    "for i in in_str:\n",
    "    if i == ' ':\n",
    "        lst.append(nul)\n",
    "        nul = ''\n",
    "    else:\n",
    "        nul += i\n",
    "if nul:\n",
    "    lst.append(nul)\n",
    "lst2 = lst[::-1]\n",
    "str2 = ' '\n",
    "str2.join(lst2)"
   ]
  },
  {
   "cell_type": "code",
   "execution_count": 42,
   "metadata": {},
   "outputs": [
    {
     "name": "stdout",
     "output_type": "stream",
     "text": [
      ".sreppep delkcip fo kcep a dekcip repip retep\n"
     ]
    }
   ],
   "source": [
    "in_str ='peter piper picked a peck of pickled peppers.'\n",
    "lst = []\n",
    "for i in in_str:\n",
    "    lst.append(i)\n",
    "# print(lst)\n",
    "lst2 = lst[::-1]\n",
    "# print(lst2)\n",
    "str1 = ''\n",
    "print(str1.join(lst2))"
   ]
  },
  {
   "cell_type": "code",
   "execution_count": 50,
   "metadata": {},
   "outputs": [
    {
     "name": "stdout",
     "output_type": "stream",
     "text": [
      ".sreppep delkcip fo kcep a dekcip repip retep\n"
     ]
    }
   ],
   "source": [
    "in_str ='peter piper picked a peck of pickled peppers.'\n",
    "lst = []\n",
    "for i in in_str:\n",
    "    lst.append(i)\n",
    "# print(lst)\n",
    "lst2 = lst[::-1]\n",
    "# print(lst2)\n",
    "str1 = ''\n",
    "print(str1.join(lst2))\n"
   ]
  },
  {
   "cell_type": "code",
   "execution_count": null,
   "metadata": {},
   "outputs": [],
   "source": []
  }
 ],
 "metadata": {
  "kernelspec": {
   "display_name": "Python 3",
   "language": "python",
   "name": "python3"
  },
  "language_info": {
   "codemirror_mode": {
    "name": "ipython",
    "version": 3
   },
   "file_extension": ".py",
   "mimetype": "text/x-python",
   "name": "python",
   "nbconvert_exporter": "python",
   "pygments_lexer": "ipython3",
   "version": "3.8.5"
  }
 },
 "nbformat": 4,
 "nbformat_minor": 4
}
